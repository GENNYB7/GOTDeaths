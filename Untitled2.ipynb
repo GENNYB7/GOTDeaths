{
  "nbformat": 4,
  "nbformat_minor": 0,
  "metadata": {
    "colab": {
      "name": "Untitled2.ipynb",
      "provenance": [],
      "collapsed_sections": [],
      "include_colab_link": true
    },
    "kernelspec": {
      "name": "python3",
      "display_name": "Python 3"
    },
    "language_info": {
      "name": "python"
    }
  },
  "cells": [
    {
      "cell_type": "markdown",
      "metadata": {
        "id": "view-in-github",
        "colab_type": "text"
      },
      "source": [
        "<a href=\"https://colab.research.google.com/github/GENNYB7/GOTDeaths/blob/main/Untitled2.ipynb\" target=\"_parent\"><img src=\"https://colab.research.google.com/assets/colab-badge.svg\" alt=\"Open In Colab\"/></a>"
      ]
    },
    {
      "cell_type": "code",
      "metadata": {
        "colab": {
          "base_uri": "https://localhost:8080/"
        },
        "id": "13qjMYEfAMZC",
        "outputId": "d0dacf6e-f65d-4223-98d4-aa5f7d92b5b0"
      },
      "source": [
        "from google.colab import drive\n",
        "drive.mount('/content/drive')"
      ],
      "execution_count": 63,
      "outputs": [
        {
          "output_type": "stream",
          "text": [
            "Drive already mounted at /content/drive; to attempt to forcibly remount, call drive.mount(\"/content/drive\", force_remount=True).\n"
          ],
          "name": "stdout"
        }
      ]
    },
    {
      "cell_type": "code",
      "metadata": {
        "id": "LZFc2GwbZ4HV"
      },
      "source": [
        "import matplotlib.pyplot as plt\n",
        "import pandas as pd\n",
        "import numpy as np\n",
        "import seaborn as sns"
      ],
      "execution_count": 64,
      "outputs": []
    },
    {
      "cell_type": "code",
      "metadata": {
        "id": "u0AmEkVRXdT6"
      },
      "source": [
        ""
      ],
      "execution_count": null,
      "outputs": []
    },
    {
      "cell_type": "code",
      "metadata": {
        "colab": {
          "base_uri": "https://localhost:8080/",
          "height": 282
        },
        "id": "hslXcy3kEIAp",
        "outputId": "6d531ece-fc6f-4d72-cfed-3b2591804014"
      },
      "source": [
        "GOTdeaths = pd.read_excel('/content/drive/MyDrive/Coding_Dojo/PandasForDataManipulation/GOT_Deaths.xlsx')\n",
        "GOTdeaths.head()"
      ],
      "execution_count": 65,
      "outputs": [
        {
          "output_type": "execute_result",
          "data": {
            "text/html": [
              "<div>\n",
              "<style scoped>\n",
              "    .dataframe tbody tr th:only-of-type {\n",
              "        vertical-align: middle;\n",
              "    }\n",
              "\n",
              "    .dataframe tbody tr th {\n",
              "        vertical-align: top;\n",
              "    }\n",
              "\n",
              "    .dataframe thead th {\n",
              "        text-align: right;\n",
              "    }\n",
              "</style>\n",
              "<table border=\"1\" class=\"dataframe\">\n",
              "  <thead>\n",
              "    <tr style=\"text-align: right;\">\n",
              "      <th></th>\n",
              "      <th>Name</th>\n",
              "      <th>Allegiance</th>\n",
              "      <th>Season</th>\n",
              "      <th>Episode</th>\n",
              "      <th>Location</th>\n",
              "      <th>Killer</th>\n",
              "      <th>Killers House</th>\n",
              "      <th>Method</th>\n",
              "      <th>Death No.</th>\n",
              "    </tr>\n",
              "  </thead>\n",
              "  <tbody>\n",
              "    <tr>\n",
              "      <th>0</th>\n",
              "      <td>Waymar Royce</td>\n",
              "      <td>Night's Watch</td>\n",
              "      <td>1</td>\n",
              "      <td>1</td>\n",
              "      <td>Beyond the Wall</td>\n",
              "      <td>White Walker</td>\n",
              "      <td>None</td>\n",
              "      <td>Ice sword</td>\n",
              "      <td>1</td>\n",
              "    </tr>\n",
              "    <tr>\n",
              "      <th>1</th>\n",
              "      <td>Gared</td>\n",
              "      <td>Night's Watch</td>\n",
              "      <td>1</td>\n",
              "      <td>1</td>\n",
              "      <td>Beyond the Wall</td>\n",
              "      <td>White Walker</td>\n",
              "      <td>None</td>\n",
              "      <td>Ice sword</td>\n",
              "      <td>2</td>\n",
              "    </tr>\n",
              "    <tr>\n",
              "      <th>2</th>\n",
              "      <td>Will</td>\n",
              "      <td>Night's Watch</td>\n",
              "      <td>1</td>\n",
              "      <td>1</td>\n",
              "      <td>Winterfell</td>\n",
              "      <td>Ned Stark</td>\n",
              "      <td>House Stark</td>\n",
              "      <td>Sword</td>\n",
              "      <td>3</td>\n",
              "    </tr>\n",
              "    <tr>\n",
              "      <th>3</th>\n",
              "      <td>Stag</td>\n",
              "      <td>None</td>\n",
              "      <td>1</td>\n",
              "      <td>1</td>\n",
              "      <td>Winterfell</td>\n",
              "      <td>Direwolf</td>\n",
              "      <td>None</td>\n",
              "      <td>Teeth</td>\n",
              "      <td>4</td>\n",
              "    </tr>\n",
              "    <tr>\n",
              "      <th>4</th>\n",
              "      <td>Direwolf</td>\n",
              "      <td>None</td>\n",
              "      <td>1</td>\n",
              "      <td>1</td>\n",
              "      <td>Winterfell</td>\n",
              "      <td>Stag</td>\n",
              "      <td>None</td>\n",
              "      <td>Antler</td>\n",
              "      <td>5</td>\n",
              "    </tr>\n",
              "  </tbody>\n",
              "</table>\n",
              "</div>"
            ],
            "text/plain": [
              "           Name     Allegiance  Season  ...  Killers House     Method Death No.\n",
              "0  Waymar Royce  Night's Watch       1  ...           None  Ice sword         1\n",
              "1         Gared  Night's Watch       1  ...           None  Ice sword         2\n",
              "2          Will  Night's Watch       1  ...    House Stark      Sword         3\n",
              "3          Stag           None       1  ...           None      Teeth         4\n",
              "4      Direwolf           None       1  ...           None     Antler         5\n",
              "\n",
              "[5 rows x 9 columns]"
            ]
          },
          "metadata": {
            "tags": []
          },
          "execution_count": 65
        }
      ]
    },
    {
      "cell_type": "code",
      "metadata": {
        "id": "iA-_9fdKTPPI"
      },
      "source": [
        "groupedseasons = GOTdeaths.groupby(\"Season\")\n",
        "\n",
        "for name, group in groupedseasons:\n",
        "    print(name)\n",
        "    print(group)\n",
        "    print(\"\\n\")"
      ],
      "execution_count": null,
      "outputs": []
    },
    {
      "cell_type": "code",
      "metadata": {
        "colab": {
          "base_uri": "https://localhost:8080/",
          "height": 284
        },
        "id": "7LJGytI2EfER",
        "outputId": "1e53c9cb-a740-456e-9515-91057e60d23d"
      },
      "source": [
        "GOTdeaths.describe()"
      ],
      "execution_count": null,
      "outputs": [
        {
          "output_type": "execute_result",
          "data": {
            "text/html": [
              "<div>\n",
              "<style scoped>\n",
              "    .dataframe tbody tr th:only-of-type {\n",
              "        vertical-align: middle;\n",
              "    }\n",
              "\n",
              "    .dataframe tbody tr th {\n",
              "        vertical-align: top;\n",
              "    }\n",
              "\n",
              "    .dataframe thead th {\n",
              "        text-align: right;\n",
              "    }\n",
              "</style>\n",
              "<table border=\"1\" class=\"dataframe\">\n",
              "  <thead>\n",
              "    <tr style=\"text-align: right;\">\n",
              "      <th></th>\n",
              "      <th>Season</th>\n",
              "      <th>Episode</th>\n",
              "      <th>Death No.</th>\n",
              "    </tr>\n",
              "  </thead>\n",
              "  <tbody>\n",
              "    <tr>\n",
              "      <th>count</th>\n",
              "      <td>2224.000000</td>\n",
              "      <td>2224.000000</td>\n",
              "      <td>2224.000000</td>\n",
              "    </tr>\n",
              "    <tr>\n",
              "      <th>mean</th>\n",
              "      <td>6.248201</td>\n",
              "      <td>5.959982</td>\n",
              "      <td>1112.500000</td>\n",
              "    </tr>\n",
              "    <tr>\n",
              "      <th>std</th>\n",
              "      <td>2.001685</td>\n",
              "      <td>2.503927</td>\n",
              "      <td>642.157821</td>\n",
              "    </tr>\n",
              "    <tr>\n",
              "      <th>min</th>\n",
              "      <td>1.000000</td>\n",
              "      <td>1.000000</td>\n",
              "      <td>1.000000</td>\n",
              "    </tr>\n",
              "    <tr>\n",
              "      <th>25%</th>\n",
              "      <td>5.000000</td>\n",
              "      <td>5.000000</td>\n",
              "      <td>556.750000</td>\n",
              "    </tr>\n",
              "    <tr>\n",
              "      <th>50%</th>\n",
              "      <td>7.000000</td>\n",
              "      <td>5.000000</td>\n",
              "      <td>1112.500000</td>\n",
              "    </tr>\n",
              "    <tr>\n",
              "      <th>75%</th>\n",
              "      <td>8.000000</td>\n",
              "      <td>9.000000</td>\n",
              "      <td>1668.250000</td>\n",
              "    </tr>\n",
              "    <tr>\n",
              "      <th>max</th>\n",
              "      <td>8.000000</td>\n",
              "      <td>10.000000</td>\n",
              "      <td>2224.000000</td>\n",
              "    </tr>\n",
              "  </tbody>\n",
              "</table>\n",
              "</div>"
            ],
            "text/plain": [
              "            Season      Episode    Death No.\n",
              "count  2224.000000  2224.000000  2224.000000\n",
              "mean      6.248201     5.959982  1112.500000\n",
              "std       2.001685     2.503927   642.157821\n",
              "min       1.000000     1.000000     1.000000\n",
              "25%       5.000000     5.000000   556.750000\n",
              "50%       7.000000     5.000000  1112.500000\n",
              "75%       8.000000     9.000000  1668.250000\n",
              "max       8.000000    10.000000  2224.000000"
            ]
          },
          "metadata": {
            "tags": []
          },
          "execution_count": 30
        }
      ]
    },
    {
      "cell_type": "code",
      "metadata": {
        "colab": {
          "base_uri": "https://localhost:8080/"
        },
        "id": "_o4mqDARbp8S",
        "outputId": "b657136a-0f21-4a2c-b153-8520c82e1166"
      },
      "source": [
        "GOTdeaths.count()"
      ],
      "execution_count": null,
      "outputs": [
        {
          "output_type": "execute_result",
          "data": {
            "text/plain": [
              "Name             2224\n",
              "Allegiance       2224\n",
              "Season           2224\n",
              "Episode          2224\n",
              "Location         2224\n",
              "Killer           2224\n",
              "Killers House    2224\n",
              "Method           2224\n",
              "Death No.        2224\n",
              "dtype: int64"
            ]
          },
          "metadata": {
            "tags": []
          },
          "execution_count": 31
        }
      ]
    },
    {
      "cell_type": "code",
      "metadata": {
        "colab": {
          "base_uri": "https://localhost:8080/"
        },
        "id": "wTnedn5aUqbt",
        "outputId": "b29e672b-fbd9-4aab-c8e8-5895c866a3aa"
      },
      "source": [
        "GOTdeaths.mean()"
      ],
      "execution_count": null,
      "outputs": [
        {
          "output_type": "execute_result",
          "data": {
            "text/plain": [
              "Season          6.248201\n",
              "Episode         5.959982\n",
              "Death No.    1112.500000\n",
              "dtype: float64"
            ]
          },
          "metadata": {
            "tags": []
          },
          "execution_count": 32
        }
      ]
    },
    {
      "cell_type": "code",
      "metadata": {
        "colab": {
          "base_uri": "https://localhost:8080/"
        },
        "id": "_Ejr9w-2q06d",
        "outputId": "62d22e30-b933-4e11-ee6d-5c063f5a839d"
      },
      "source": [
        "killers1 = GOTdeaths['Killer'].value_counts()\n",
        "killers1"
      ],
      "execution_count": 124,
      "outputs": [
        {
          "output_type": "execute_result",
          "data": {
            "text/plain": [
              "Daenerys Targaryen    1008\n",
              "Cersei Lannister       199\n",
              "Arya Stark              68\n",
              "Wight                   54\n",
              "Jon Snow                51\n",
              "                      ... \n",
              "Roose Bolton             1\n",
              "Catelyn Stark            1\n",
              "Oswell Whent             1\n",
              "Lysa Arryn               1\n",
              "Ilyn Payne               1\n",
              "Name: Killer, Length: 129, dtype: int64"
            ]
          },
          "metadata": {
            "tags": []
          },
          "execution_count": 124
        }
      ]
    },
    {
      "cell_type": "code",
      "metadata": {
        "colab": {
          "base_uri": "https://localhost:8080/"
        },
        "id": "KUbAP7ZZr9mH",
        "outputId": "1214e034-d65d-42f4-a6de-a91b0ac4061e"
      },
      "source": [
        "Top10methods = GOTdeaths.groupby(['Method'])['Killer'].count().sort_values(ascending=False).head(10)\n",
        "Top10methods"
      ],
      "execution_count": 68,
      "outputs": [
        {
          "output_type": "execute_result",
          "data": {
            "text/plain": [
              "Method\n",
              "Dragonfire (Dragon)    986\n",
              "Sword                  322\n",
              "Wildfire               210\n",
              "Knife                  119\n",
              "Arrow                   95\n",
              "Spear                   81\n",
              "Poison                  63\n",
              "Axe                     48\n",
              "Arakh                   44\n",
              "Flaming arrow           35\n",
              "Name: Killer, dtype: int64"
            ]
          },
          "metadata": {
            "tags": []
          },
          "execution_count": 68
        }
      ]
    },
    {
      "cell_type": "code",
      "metadata": {
        "colab": {
          "base_uri": "https://localhost:8080/",
          "height": 431
        },
        "id": "TuYUaL7qxb9r",
        "outputId": "af43dc4e-3d88-4faa-c524-b3af32e730ba"
      },
      "source": [
        "data = GOTdeaths.groupby(['Season', 'Method', 'Killer', 'Name'])[['Death No.']].sum()\n",
        "data\n",
        "\n"
      ],
      "execution_count": 96,
      "outputs": [
        {
          "output_type": "execute_result",
          "data": {
            "text/html": [
              "<div>\n",
              "<style scoped>\n",
              "    .dataframe tbody tr th:only-of-type {\n",
              "        vertical-align: middle;\n",
              "    }\n",
              "\n",
              "    .dataframe tbody tr th {\n",
              "        vertical-align: top;\n",
              "    }\n",
              "\n",
              "    .dataframe thead th {\n",
              "        text-align: right;\n",
              "    }\n",
              "</style>\n",
              "<table border=\"1\" class=\"dataframe\">\n",
              "  <thead>\n",
              "    <tr style=\"text-align: right;\">\n",
              "      <th></th>\n",
              "      <th></th>\n",
              "      <th></th>\n",
              "      <th></th>\n",
              "      <th>Death No.</th>\n",
              "    </tr>\n",
              "    <tr>\n",
              "      <th>Season</th>\n",
              "      <th>Method</th>\n",
              "      <th>Killer</th>\n",
              "      <th>Name</th>\n",
              "      <th></th>\n",
              "    </tr>\n",
              "  </thead>\n",
              "  <tbody>\n",
              "    <tr>\n",
              "      <th rowspan=\"5\" valign=\"top\">1</th>\n",
              "      <th>Antler</th>\n",
              "      <th>Stag</th>\n",
              "      <th>Direwolf</th>\n",
              "      <td>5</td>\n",
              "    </tr>\n",
              "    <tr>\n",
              "      <th>Arakh</th>\n",
              "      <th>Dothraki man</th>\n",
              "      <th>Dothraki man</th>\n",
              "      <td>7</td>\n",
              "    </tr>\n",
              "    <tr>\n",
              "      <th>Arrow</th>\n",
              "      <th>Theon Greyjoy</th>\n",
              "      <th>Stiv</th>\n",
              "      <td>31</td>\n",
              "    </tr>\n",
              "    <tr>\n",
              "      <th>Bolo</th>\n",
              "      <th>Tribesman</th>\n",
              "      <th>Stark soldier</th>\n",
              "      <td>13</td>\n",
              "    </tr>\n",
              "    <tr>\n",
              "      <th>Fire</th>\n",
              "      <th>Daenerys Targaryen</th>\n",
              "      <th>Mirri Maz Duur</th>\n",
              "      <td>58</td>\n",
              "    </tr>\n",
              "    <tr>\n",
              "      <th>...</th>\n",
              "      <th>...</th>\n",
              "      <th>...</th>\n",
              "      <th>...</th>\n",
              "      <td>...</td>\n",
              "    </tr>\n",
              "    <tr>\n",
              "      <th rowspan=\"5\" valign=\"top\">8</th>\n",
              "      <th rowspan=\"2\" valign=\"top\">Sword</th>\n",
              "      <th rowspan=\"2\" valign=\"top\">Wight</th>\n",
              "      <th>Stark Soldier</th>\n",
              "      <td>8123</td>\n",
              "    </tr>\n",
              "    <tr>\n",
              "      <th>Unsullied</th>\n",
              "      <td>8071</td>\n",
              "    </tr>\n",
              "    <tr>\n",
              "      <th rowspan=\"3\" valign=\"top\">Teeth</th>\n",
              "      <th rowspan=\"3\" valign=\"top\">Wight</th>\n",
              "      <th>Night's Watch brother</th>\n",
              "      <td>2702</td>\n",
              "    </tr>\n",
              "    <tr>\n",
              "      <th>Peasant</th>\n",
              "      <td>2741</td>\n",
              "    </tr>\n",
              "    <tr>\n",
              "      <th>Stark Soldier</th>\n",
              "      <td>1344</td>\n",
              "    </tr>\n",
              "  </tbody>\n",
              "</table>\n",
              "<p>481 rows × 1 columns</p>\n",
              "</div>"
            ],
            "text/plain": [
              "                                                        Death No.\n",
              "Season Method Killer             Name                            \n",
              "1      Antler Stag               Direwolf                       5\n",
              "       Arakh  Dothraki man       Dothraki man                   7\n",
              "       Arrow  Theon Greyjoy      Stiv                          31\n",
              "       Bolo   Tribesman          Stark soldier                 13\n",
              "       Fire   Daenerys Targaryen Mirri Maz Duur                58\n",
              "...                                                           ...\n",
              "8      Sword  Wight              Stark Soldier               8123\n",
              "                                 Unsullied                   8071\n",
              "       Teeth  Wight              Night's Watch brother       2702\n",
              "                                 Peasant                     2741\n",
              "                                 Stark Soldier               1344\n",
              "\n",
              "[481 rows x 1 columns]"
            ]
          },
          "metadata": {
            "tags": []
          },
          "execution_count": 96
        }
      ]
    },
    {
      "cell_type": "code",
      "metadata": {
        "id": "2Itd8-lCLsxr"
      },
      "source": [
        ""
      ],
      "execution_count": null,
      "outputs": []
    },
    {
      "cell_type": "code",
      "metadata": {
        "colab": {
          "base_uri": "https://localhost:8080/"
        },
        "id": "4CPh2em4eVNd",
        "outputId": "0d404900-096c-475c-c5a4-c9af8b2efd50"
      },
      "source": [
        "top15killers = GOTdeaths.groupby(['Killer'])['Death No.'].count().sort_values(ascending=False).head(15)\n",
        "top15killers"
      ],
      "execution_count": 127,
      "outputs": [
        {
          "output_type": "execute_result",
          "data": {
            "text/plain": [
              "Killer\n",
              "Daenerys Targaryen                     1008\n",
              "Cersei Lannister                        199\n",
              "Arya Stark                               68\n",
              "Wight                                    54\n",
              "Jon Snow                                 51\n",
              "Bolton soldier                           47\n",
              "Night's Watch brother                    41\n",
              "Stark Soldier                            38\n",
              "Sons of the Harpy agent                  38\n",
              "Grey Worm                                34\n",
              "Dothraki man                             32\n",
              "Baratheon of King's Landing soldier      32\n",
              "Sandor \"the Hound\" Clegane               31\n",
              "Frey soldier                             27\n",
              "Bronn                                    27\n",
              "Name: Death No., dtype: int64"
            ]
          },
          "metadata": {
            "tags": []
          },
          "execution_count": 127
        }
      ]
    },
    {
      "cell_type": "code",
      "metadata": {
        "id": "yEgc6NUg-OEm"
      },
      "source": [
        "Methods = GOTdeaths.groupby(['Method'])['Death No.'].count().sort_values(ascending=False).head(15)\n"
      ],
      "execution_count": 175,
      "outputs": []
    },
    {
      "cell_type": "code",
      "metadata": {
        "colab": {
          "base_uri": "https://localhost:8080/",
          "height": 567
        },
        "id": "0g2z8UR57K10",
        "outputId": "b64d5735-dad4-4ae6-db14-23c32b0e0e86"
      },
      "source": [
        "data1 = top15killers\n",
        "data2 = Methods\n",
        "width =0.4\n",
        "fig, ax = plt.subplots(figsize =(20, 10))\n",
        "plt.bar(np.arange(len(data1)), data1, width=width, label ='Top Killers', color='cyan')\n",
        "plt.bar(np.arange(len(data2))+ width, data2, width=width, label ='Top Methods', color='pink')\n",
        "plt.title(\"Top 15 Killers and Methods in GOT\", fontsize= 35)\n",
        "plt.ylabel('Kills', fontweight ='bold', fontsize = 25)\n",
        "plt.xticks([])\n",
        "plt.yticks(fontsize=20)\n",
        "plt.legend(loc='upper right', prop={'size': 20})\n",
        "plt.show()"
      ],
      "execution_count": 174,
      "outputs": [
        {
          "output_type": "display_data",
          "data": {
            "image/png": "[encoded data removed]",
            "text/plain": [
              "<Figure size 1440x720 with 1 Axes>"
            ]
          },
          "metadata": {
            "tags": [],
            "needs_background": "light"
          }
        }
      ]
    },
    {
      "cell_type": "code",
      "metadata": {
        "id": "4ca2GpZQHGcG"
      },
      "source": [
        ""
      ],
      "execution_count": null,
      "outputs": []
    },
    {
      "cell_type": "code",
      "metadata": {
        "id": "x1nUefKAScj8"
      },
      "source": [
        ""
      ],
      "execution_count": null,
      "outputs": []
    },
    {
      "cell_type": "markdown",
      "metadata": {
        "id": "TIGZuWlJtNbi"
      },
      "source": [
        "### Code Graveyard "
      ]
    },
    {
      "cell_type": "code",
      "metadata": {
        "colab": {
          "base_uri": "https://localhost:8080/",
          "height": 265
        },
        "id": "K0c9AkfmyQKX",
        "outputId": "cd5c7adc-7166-484e-9f4f-21c651aedf5a"
      },
      "source": [
        ""
      ],
      "execution_count": null,
      "outputs": [
        {
          "output_type": "display_data",
          "data": {
            "image/png": "[encoded data removed]",
            "text/plain": [
              "<Figure size 432x288 with 1 Axes>"
            ]
          },
          "metadata": {
            "tags": [],
            "needs_background": "light"
          }
        }
      ]
    },
    {
      "cell_type": "code",
      "metadata": {
        "colab": {
          "base_uri": "https://localhost:8080/"
        },
        "id": "ZqySu6Mj9AJa",
        "outputId": "fa259acd-2890-4878-97cb-2b572cd2cd66"
      },
      "source": [
        "GOTdeaths.value_counts(['Method', 'Killer', 'Season'])"
      ],
      "execution_count": null,
      "outputs": [
        {
          "output_type": "execute_result",
          "data": {
            "text/plain": [
              "Method               Killer              Season\n",
              "Dragonfire (Dragon)  Daenerys Targaryen  8         771\n",
              "Wildfire             Cersei Lannister    6         197\n",
              "Dragonfire (Dragon)  Daenerys Targaryen  7         182\n",
              "Poison               Arya Stark          7          54\n",
              "Arrow                Bolton soldier      6          31\n",
              "                                                  ... \n",
              "Mammoth foot         Giant mammoth       4           1\n",
              "Mallet               Tormund             5           1\n",
              "Magic                Mirri Maz Duur      1           1\n",
              "Mace                 Tribesman           1           1\n",
              "Antler               Stag                1           1\n",
              "Length: 376, dtype: int64"
            ]
          },
          "metadata": {
            "tags": []
          },
          "execution_count": 113
        }
      ]
    },
    {
      "cell_type": "code",
      "metadata": {
        "id": "GVbSdXsQbBd2"
      },
      "source": [
        "#GOTdeaths.groupby(['Death No.', 'Killer']).Season.agg('max')"
      ],
      "execution_count": null,
      "outputs": []
    },
    {
      "cell_type": "code",
      "metadata": {
        "id": "2mSSuF9v8Fik"
      },
      "source": [
        "#GOTdeaths.groupby(['Season', 'Killer', 'Name']).sum()\n"
      ],
      "execution_count": null,
      "outputs": []
    },
    {
      "cell_type": "code",
      "metadata": {
        "id": "XDejIo1gwikr"
      },
      "source": [
        "#GOTdeaths.nlargest(20, "
      ],
      "execution_count": null,
      "outputs": []
    },
    {
      "cell_type": "code",
      "metadata": {
        "id": "cT7o_47-r2TA"
      },
      "source": [
        "#top20byseason = GOTdeaths.groupby(\"Season\")[\"Killer\"].count()\n",
        "#top20byseason.head(20)"
      ],
      "execution_count": null,
      "outputs": []
    },
    {
      "cell_type": "code",
      "metadata": {
        "id": "jOD_r0agYLZu"
      },
      "source": [
        "#x= ['Season']\n",
        "#y= []"
      ],
      "execution_count": null,
      "outputs": []
    },
    {
      "cell_type": "code",
      "metadata": {
        "colab": {
          "base_uri": "https://localhost:8080/"
        },
        "id": "WxigNn9kp-g5",
        "outputId": "4fb88fb4-0bd4-4ee5-fa23-504983638242"
      },
      "source": [
        "#Characters_filter = GOTdeaths['Killer'].value_counts().head(20)\n",
        "#Characters_filter"
      ],
      "execution_count": null,
      "outputs": [
        {
          "output_type": "execute_result",
          "data": {
            "text/plain": [
              "Lannister soldier                8\n",
              "Bronn                            5\n",
              "Ned Stark                        3\n",
              "City watch guard                 3\n",
              "Jory Cassel                      3\n",
              "Rodrik Cassel                    2\n",
              "Sandor \"the Hound\" Clegane       2\n",
              "Tribesman                        2\n",
              "Gregor \"the Mountain\" Clegane    2\n",
              "Arya Stark                       2\n",
              "White Walker                     2\n",
              "Robb Stark                       2\n",
              "Khal Drogo                       2\n",
              "Mirri Maz Duur                   2\n",
              "Hill tribesman                   2\n",
              "Daenerys Targaryen               2\n",
              "Theon Greyjoy                    1\n",
              "Jon Snow                         1\n",
              "Direwolf                         1\n",
              "Night's Watch brother            1\n",
              "Name: Killer, dtype: int64"
            ]
          },
          "metadata": {
            "tags": []
          },
          "execution_count": 191
        }
      ]
    },
    {
      "cell_type": "code",
      "metadata": {
        "id": "IdtBRtGOEizB"
      },
      "source": [
        ""
      ],
      "execution_count": null,
      "outputs": []
    },
    {
      "cell_type": "code",
      "metadata": {
        "id": "RNIuVif_rFZs"
      },
      "source": [
        "#top20killers = GOTdeaths.sort_values([\"Killer\", \"Method\"], ascending = (True)).head(20)\n",
        "#top20killers"
      ],
      "execution_count": null,
      "outputs": []
    }
  ]
}